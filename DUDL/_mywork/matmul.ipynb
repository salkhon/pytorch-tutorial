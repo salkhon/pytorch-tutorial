{
 "cells": [
  {
   "cell_type": "code",
   "execution_count": 1,
   "metadata": {},
   "outputs": [],
   "source": [
    "import numpy as np\n",
    "import torch as torch"
   ]
  },
  {
   "cell_type": "code",
   "execution_count": 4,
   "metadata": {},
   "outputs": [
    {
     "name": "stdout",
     "output_type": "stream",
     "text": [
      "[[ 0.97759257 -0.18962814 -1.13807893  6.74255467 -0.05575912]\n",
      " [-0.52678157  0.77840637  0.25895325 -1.19631989  0.88694563]\n",
      " [ 0.78284821 -1.21984318 -0.70547064  1.52379625 -1.69228918]]\n",
      "[[ 0.97759257 -0.18962814 -1.13807893  6.74255467 -0.05575912]\n",
      " [-0.52678157  0.77840637  0.25895325 -1.19631989  0.88694563]\n",
      " [ 0.78284821 -1.21984318 -0.70547064  1.52379625 -1.69228918]]\n",
      "[[ 4.41  0.93 -2.79  0.7 ]\n",
      " [-1.55 -0.03  1.32 -0.06]\n",
      " [-3.04 -2.17  0.35 -1.08]\n",
      " [-2.49 -1.7   0.27 -1.02]\n",
      " [-2.51 -3.28 -1.25 -1.47]\n",
      " [-4.24 -1.95  1.83 -0.68]\n",
      " [-1.77 -2.47 -1.03 -1.08]]\n"
     ]
    }
   ],
   "source": [
    "A = np.random.randn(3, 4)\n",
    "B = np.random.randn(4, 5)\n",
    "C = np.random.randn(3, 7)\n",
    "\n",
    "print(np.matmul(A, B))\n",
    "# shotcut\n",
    "print(A@B)\n",
    "print(np.round(C.T@A, 2))  # rounds to two digs"
   ]
  },
  {
   "cell_type": "code",
   "execution_count": 5,
   "metadata": {},
   "outputs": [
    {
     "name": "stdout",
     "output_type": "stream",
     "text": [
      "tensor([[ 0.5300, -0.7300, -0.5200,  0.1700, -0.7100],\n",
      "        [ 0.3400, -1.3300,  0.9300,  2.7200,  0.9100],\n",
      "        [-0.3400,  0.2900,  0.2000, -1.5100,  0.7100]])\n",
      "<class 'torch.Tensor'>\n",
      "tensor([[-1.4100, -2.4200, -3.9200,  0.4500,  0.9500, -0.0400, -3.0900],\n",
      "        [-0.9900,  1.7500, -2.4100,  2.7700,  0.6700,  0.1000, -0.0500],\n",
      "        [ 0.2800, -0.8000,  2.2600, -2.5400,  0.3400,  0.2400,  0.0700]],\n",
      "       dtype=torch.float64)\n"
     ]
    }
   ],
   "source": [
    "A = torch.randn(3, 4)  # no submodule for random initialization\n",
    "B = torch.randn(4, 5)\n",
    "C1 = np.random.randn(4, 7)\n",
    "C2 = torch.tensor(C1, dtype=torch.float)\n",
    "\n",
    "print(np.round(A@B, 2))  # notice numpy is rounding torch tensor!\n",
    "print(type(A@B))\n",
    "\n",
    "# matmul for torch and np\n",
    "print(np.round(A@C1, 2))  # torch is multiplying with numpy! Not always compatible with each other!"
   ]
  },
  {
   "cell_type": "code",
   "execution_count": null,
   "metadata": {},
   "outputs": [],
   "source": []
  }
 ],
 "metadata": {
  "kernelspec": {
   "display_name": "Python 3.10.6 ('venv': venv)",
   "language": "python",
   "name": "python3"
  },
  "language_info": {
   "codemirror_mode": {
    "name": "ipython",
    "version": 3
   },
   "file_extension": ".py",
   "mimetype": "text/x-python",
   "name": "python",
   "nbconvert_exporter": "python",
   "pygments_lexer": "ipython3",
   "version": "3.10.6"
  },
  "orig_nbformat": 4,
  "vscode": {
   "interpreter": {
    "hash": "9a187e227076cfaf82f1d60127c8867ba7cbec42f4df87b9fa1cb5e6b9228a6e"
   }
  }
 },
 "nbformat": 4,
 "nbformat_minor": 2
}
